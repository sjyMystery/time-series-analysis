{
 "cells": [
  {
   "cell_type": "code",
   "execution_count": 3,
   "metadata": {},
   "outputs": [],
   "source": [
    "#我们下面来检验X^2*Y的方差确实是我们所给出的式子"
   ]
  },
  {
   "cell_type": "code",
   "execution_count": 50,
   "metadata": {},
   "outputs": [
    {
     "data": {
      "text/plain": [
       "48.179602403306944"
      ]
     },
     "execution_count": 50,
     "metadata": {},
     "output_type": "execute_result"
    }
   ],
   "source": [
    "import numpy as np\n",
    "import matplotlib.pyplot as plt\n",
    "from scipy.stats import multivariate_normal\n",
    "vr = np.random.multivariate_normal([2,444],[[16,12],[12,36]],1000000)\n",
    "x = vr[:,0] \n",
    "x_2 = np.asarray([i*i for i in x])\n",
    "y = vr[:,1]\n",
    "\n",
    "norm_x = x_2 - x_2.mean()\n",
    "norm_y = y - y.mean()\n",
    "c = np.asarray([norm_x[i]*norm_y[i] for i in range(1000000)])\n",
    "c.mean()"
   ]
  }
 ],
 "metadata": {
  "kernelspec": {
   "display_name": "Python 3",
   "language": "python",
   "name": "python3"
  },
  "language_info": {
   "codemirror_mode": {
    "name": "ipython",
    "version": 3
   },
   "file_extension": ".py",
   "mimetype": "text/x-python",
   "name": "python",
   "nbconvert_exporter": "python",
   "pygments_lexer": "ipython3",
   "version": "3.7.4"
  }
 },
 "nbformat": 4,
 "nbformat_minor": 4
}
